{
 "cells": [
  {
   "cell_type": "code",
   "execution_count": 1,
   "id": "d56acb2d",
   "metadata": {},
   "outputs": [],
   "source": [
    "import pandas as pd"
   ]
  },
  {
   "cell_type": "code",
   "execution_count": 2,
   "id": "791698cd",
   "metadata": {},
   "outputs": [],
   "source": [
    "df = pd.read_csv(\"bank-full.csv\",delimiter=';')"
   ]
  },
  {
   "cell_type": "code",
   "execution_count": 3,
   "id": "20fb0bf1",
   "metadata": {
    "scrolled": false
   },
   "outputs": [],
   "source": [
    "df"
   ]
  },
  {
   "cell_type": "code",
   "execution_count": 4,
   "id": "3d2579e0",
   "metadata": {},
   "outputs": [],
   "source": [
    "df.describe()"
   ]
  },
  {
   "cell_type": "code",
   "execution_count": 5,
   "id": "52b5bfc4",
   "metadata": {},
   "outputs": [],
   "source": [
    "df.info()"
   ]
  },
  {
   "cell_type": "code",
   "execution_count": 6,
   "id": "e4276903",
   "metadata": {},
   "outputs": [],
   "source": [
    "df.isnull().sum() #check for NaN values"
   ]
  },
  {
   "cell_type": "code",
   "execution_count": 7,
   "id": "1b505623",
   "metadata": {},
   "outputs": [],
   "source": [
    "df= df.drop(columns=\"contact\")\n",
    "df= df.drop(columns=\"month\")"
   ]
  },
  {
   "cell_type": "code",
   "execution_count": 8,
   "id": "06efbd88",
   "metadata": {},
   "outputs": [],
   "source": [
    "# Change strings into numeric value"
   ]
  },
  {
   "cell_type": "code",
   "execution_count": 9,
   "id": "8b61d0fa",
   "metadata": {},
   "outputs": [],
   "source": [
    "df['job'] = df['job'].astype('category')\n",
    "df['job'] = df['job'].cat.codes\n",
    "\n",
    "df['marital'] = df['marital'].astype('category')\n",
    "df['marital'] = df['marital'].cat.codes \n",
    "\n",
    "df['education'] = df['education'].astype('category')\n",
    "df['education'] = df['education'].cat.codes\n",
    "\n",
    "df['default'] = df['default'].astype('category')\n",
    "df['default'] = df['default'].cat.codes\n",
    "\n",
    "df['housing'] = df['housing'].astype('category')\n",
    "df['housing'] = df['housing'].cat.codes\n",
    "\n",
    "df['loan'] = df['loan'].astype('category')\n",
    "df['loan'] = df['loan'].cat.codes\n",
    "\n",
    "df['poutcome'] = df['poutcome'].astype('category')\n",
    "df['poutcome'] = df['poutcome'].cat.codes\n",
    "\n",
    "df['y'] = df['y'].astype('category')\n",
    "df['y'] = df['y'].cat.codes\n"
   ]
  },
  {
   "cell_type": "code",
   "execution_count": 10,
   "id": "c5669631",
   "metadata": {},
   "outputs": [],
   "source": [
    "df.head()"
   ]
  },
  {
   "cell_type": "code",
   "execution_count": 11,
   "id": "9c740f79",
   "metadata": {},
   "outputs": [],
   "source": [
    "x = df.drop(columns=\"y\")\n",
    "x.head()"
   ]
  },
  {
   "cell_type": "code",
   "execution_count": 12,
   "id": "605bd6b6",
   "metadata": {},
   "outputs": [],
   "source": [
    "y = df[\"y\"]"
   ]
  },
  {
   "cell_type": "code",
   "execution_count": 13,
   "id": "c1377c5f",
   "metadata": {},
   "outputs": [],
   "source": [
    "# train_test_split"
   ]
  },
  {
   "cell_type": "code",
   "execution_count": 14,
   "id": "b56aa6fb",
   "metadata": {},
   "outputs": [],
   "source": [
    "from sklearn.model_selection import train_test_split"
   ]
  },
  {
   "cell_type": "code",
   "execution_count": 15,
   "id": "31d80c41",
   "metadata": {},
   "outputs": [],
   "source": [
    "x_train,x_test,y_train,y_test = train_test_split(x,y,test_size=0.3,random_state=27)"
   ]
  },
  {
   "cell_type": "code",
   "execution_count": 16,
   "id": "52636aee",
   "metadata": {},
   "outputs": [],
   "source": [
    "# scale the data for big data"
   ]
  },
  {
   "cell_type": "code",
   "execution_count": 17,
   "id": "585439f6",
   "metadata": {},
   "outputs": [],
   "source": [
    "from sklearn.preprocessing import StandardScaler"
   ]
  },
  {
   "cell_type": "code",
   "execution_count": 18,
   "id": "c2f04b84",
   "metadata": {},
   "outputs": [],
   "source": [
    "scaler = StandardScaler()"
   ]
  },
  {
   "cell_type": "code",
   "execution_count": 19,
   "id": "cb37ca28",
   "metadata": {},
   "outputs": [],
   "source": [
    "xs_train = scaler.fit_transform(x_train)\n",
    "xs_test = scaler.transform(x_test)"
   ]
  },
  {
   "cell_type": "code",
   "execution_count": 20,
   "id": "bfe338a1",
   "metadata": {},
   "outputs": [],
   "source": [
    "# Logistic Regression"
   ]
  },
  {
   "cell_type": "code",
   "execution_count": 21,
   "id": "441b950b",
   "metadata": {},
   "outputs": [],
   "source": [
    "from sklearn.linear_model import LogisticRegression"
   ]
  },
  {
   "cell_type": "code",
   "execution_count": 22,
   "id": "730fc8f2",
   "metadata": {},
   "outputs": [],
   "source": [
    "lr = LogisticRegression(random_state=0,).fit(xs_train,y_train)"
   ]
  },
  {
   "cell_type": "code",
   "execution_count": 23,
   "id": "aba4706d",
   "metadata": {},
   "outputs": [],
   "source": [
    "lr.predict(xs_train)"
   ]
  },
  {
   "cell_type": "code",
   "execution_count": 24,
   "id": "3a476a86",
   "metadata": {},
   "outputs": [],
   "source": [
    "lr.score(xs_train,y_train)"
   ]
  },
  {
   "cell_type": "code",
   "execution_count": 25,
   "id": "62a79354",
   "metadata": {},
   "outputs": [],
   "source": [
    "lr.score(xs_test,y_test)"
   ]
  },
  {
   "cell_type": "code",
   "execution_count": 26,
   "id": "8ef1b630",
   "metadata": {},
   "outputs": [],
   "source": [
    "# check for improvments "
   ]
  },
  {
   "cell_type": "code",
   "execution_count": 27,
   "id": "69da7272",
   "metadata": {},
   "outputs": [],
   "source": [
    "lr1 = LogisticRegression(random_state=0,\n",
    "                        C = 1,\n",
    "                        fit_intercept= True).fit(xs_train,y_train)\n",
    "lr1.score(xs_train,y_train)"
   ]
  }
 ],
 "metadata": {
  "kernelspec": {
   "display_name": "Python 3 (ipykernel)",
   "language": "python",
   "name": "python3"
  },
  "language_info": {
   "codemirror_mode": {
    "name": "ipython",
    "version": 3
   },
   "file_extension": ".py",
   "mimetype": "text/x-python",
   "name": "python",
   "nbconvert_exporter": "python",
   "pygments_lexer": "ipython3",
   "version": "3.11.3"
  }
 },
 "nbformat": 4,
 "nbformat_minor": 5
}
