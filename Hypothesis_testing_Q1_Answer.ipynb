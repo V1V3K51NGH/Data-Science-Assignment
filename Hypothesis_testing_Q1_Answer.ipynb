{
 "cells": [
  {
   "cell_type": "code",
   "execution_count": 1,
   "id": "24767b12",
   "metadata": {},
   "outputs": [],
   "source": [
    "import pandas as pd\n",
    "from scipy.stats import ttest_ind"
   ]
  },
  {
   "cell_type": "code",
   "execution_count": 2,
   "id": "a7a4dfbe",
   "metadata": {},
   "outputs": [],
   "source": [
    "df= pd.read_csv(\"Cutlets.csv\")"
   ]
  },
  {
   "cell_type": "code",
   "execution_count": 4,
   "id": "5e6ed3a4",
   "metadata": {},
   "outputs": [],
   "source": [
    "unit_a=df[\"Unit A\"]\n",
    "unit_b=df[\"Unit B\"]"
   ]
  },
  {
   "cell_type": "code",
   "execution_count": 10,
   "id": "adc62775",
   "metadata": {},
   "outputs": [],
   "source": [
    "statistic, p_value = ttest_ind(unit_a,unit_b)"
   ]
  },
  {
   "cell_type": "code",
   "execution_count": 13,
   "id": "e7106ad1",
   "metadata": {},
   "outputs": [
    {
     "name": "stdout",
     "output_type": "stream",
     "text": [
      "0.4722394724599501\n"
     ]
    }
   ],
   "source": [
    "print(p_value)"
   ]
  },
  {
   "cell_type": "code",
   "execution_count": null,
   "id": "ad6fa924",
   "metadata": {},
   "outputs": [],
   "source": [
    "# p_value > 0.05, Thus it Fail to reject the null hypothesis. There is no significant difference."
   ]
  }
 ],
 "metadata": {
  "kernelspec": {
   "display_name": "Python 3 (ipykernel)",
   "language": "python",
   "name": "python3"
  },
  "language_info": {
   "codemirror_mode": {
    "name": "ipython",
    "version": 3
   },
   "file_extension": ".py",
   "mimetype": "text/x-python",
   "name": "python",
   "nbconvert_exporter": "python",
   "pygments_lexer": "ipython3",
   "version": "3.11.3"
  }
 },
 "nbformat": 4,
 "nbformat_minor": 5
}
