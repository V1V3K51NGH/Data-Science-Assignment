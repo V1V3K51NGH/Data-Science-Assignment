{
 "cells": [
  {
   "cell_type": "code",
   "execution_count": 10,
   "id": "ce562526",
   "metadata": {},
   "outputs": [],
   "source": [
    "import pandas as pd\n",
    "import scipy.stats as stats"
   ]
  },
  {
   "cell_type": "code",
   "execution_count": 11,
   "id": "ece4fa77",
   "metadata": {},
   "outputs": [],
   "source": [
    "df= pd.read_csv(\"BuyerRatio.csv\")"
   ]
  },
  {
   "cell_type": "code",
   "execution_count": 13,
   "id": "307943c0",
   "metadata": {},
   "outputs": [],
   "source": [
    "data=df.iloc[:,1:6]"
   ]
  },
  {
   "cell_type": "code",
   "execution_count": 14,
   "id": "af4d231d",
   "metadata": {},
   "outputs": [],
   "source": [
    "chi2_stat, p_val, dof, expected = stats.chi2_contingency(data)"
   ]
  },
  {
   "cell_type": "code",
   "execution_count": 16,
   "id": "15453120",
   "metadata": {},
   "outputs": [
    {
     "name": "stdout",
     "output_type": "stream",
     "text": [
      "0.6603094907091882\n"
     ]
    }
   ],
   "source": [
    "print(p_val)"
   ]
  },
  {
   "cell_type": "code",
   "execution_count": null,
   "id": "b50ebd8f",
   "metadata": {},
   "outputs": [],
   "source": [
    "# p-value is bigger then 0.05 so we reject the null hypothesis i.e. not all proportion are equal."
   ]
  }
 ],
 "metadata": {
  "kernelspec": {
   "display_name": "Python 3 (ipykernel)",
   "language": "python",
   "name": "python3"
  },
  "language_info": {
   "codemirror_mode": {
    "name": "ipython",
    "version": 3
   },
   "file_extension": ".py",
   "mimetype": "text/x-python",
   "name": "python",
   "nbconvert_exporter": "python",
   "pygments_lexer": "ipython3",
   "version": "3.11.3"
  }
 },
 "nbformat": 4,
 "nbformat_minor": 5
}
